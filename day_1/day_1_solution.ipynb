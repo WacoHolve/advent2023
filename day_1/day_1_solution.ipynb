{
 "cells": [
  {
   "cell_type": "code",
   "execution_count": 1,
   "metadata": {},
   "outputs": [
    {
     "data": {
      "text/plain": [
       "55172"
      ]
     },
     "execution_count": 1,
     "metadata": {},
     "output_type": "execute_result"
    }
   ],
   "source": [
    "from pandas import read_table\n",
    "\n",
    "df = read_table(\"day_1_input.txt\")\n",
    "df[\"nums\"] = [x for x in df.entries.str.findall(r'\\d+')]\n",
    "\n",
    "solution = 0\n",
    "for _, row in df.iterrows():\n",
    "    vals = row.nums\n",
    "\n",
    "    if isinstance(vals, list):\n",
    "        num_1 = int(vals[0][0])\n",
    "        num_2 = int(vals[-1][-1])\n",
    "\n",
    "    if int(num_1) > 9:\n",
    "        first_val_to_add = int(str(num_1)[0])\n",
    "    \n",
    "    if int(num_2) > 9:\n",
    "        second_val_to_add = int(str(num_2[-1]))\n",
    "    \n",
    "    solution += int(str(num_1) + str(num_2))\n",
    "    \n",
    "solution"
   ]
  }
 ],
 "metadata": {
  "kernelspec": {
   "display_name": "venv",
   "language": "python",
   "name": "python3"
  },
  "language_info": {
   "codemirror_mode": {
    "name": "ipython",
    "version": 3
   },
   "file_extension": ".py",
   "mimetype": "text/x-python",
   "name": "python",
   "nbconvert_exporter": "python",
   "pygments_lexer": "ipython3",
   "version": "3.9.6"
  }
 },
 "nbformat": 4,
 "nbformat_minor": 2
}
