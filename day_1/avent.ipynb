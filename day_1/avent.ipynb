{
 "cells": [
  {
   "cell_type": "code",
   "execution_count": 1,
   "metadata": {},
   "outputs": [
    {
     "data": {
      "text/plain": [
       "55172"
      ]
     },
     "execution_count": 1,
     "metadata": {},
     "output_type": "execute_result"
    }
   ],
   "source": [
    "from pandas import read_table\n",
    "\n",
    "df = read_table(\"day_1_input.txt\")\n",
    "df[\"nums\"] = [x for x in df.entries.str.findall(r'\\d+')]\n",
    "\n",
    "solution = 0\n",
    "for _, row in df.iterrows():\n",
    "    vals = row.nums\n",
    "\n",
    "    if isinstance(vals, list):\n",
    "        num_1 = int(vals[0][0])\n",
    "        num_2 = int(vals[-1][-1])\n",
    "\n",
    "    if int(num_1) > 9:\n",
    "        first_val_to_add = int(str(num_1)[0])\n",
    "    \n",
    "    if int(num_2) > 9:\n",
    "        second_val_to_add = int(str(num_2[-1]))\n",
    "    \n",
    "    solution += int(str(num_1) + str(num_2))\n",
    "    \n",
    "solution"
   ]
  },
  {
   "cell_type": "code",
   "execution_count": 33,
   "metadata": {},
   "outputs": [
    {
     "name": "stdout",
     "output_type": "stream",
     "text": [
      "two1nine two19 ['19'] 1 9\n",
      "eightwothree 8wothree ['8'] 8 8\n",
      "abcone2threexyz abcone23xyz ['23'] 2 3\n",
      "xtwone3four xtwone34 ['34'] 3 4\n",
      "4nineeightseven2 49eightseven2 ['49', '2'] 4 2\n",
      "zoneight234 zon8234 ['8234'] 8 4\n",
      "7pqrstsixteen 7pqrst6teen ['7', '6'] 7 6\n"
     ]
    },
    {
     "data": {
      "text/plain": [
       "366"
      ]
     },
     "execution_count": 33,
     "metadata": {},
     "output_type": "execute_result"
    }
   ],
   "source": [
    "from re import sub, findall, finditer\n",
    "from pandas import read_table, DataFrame\n",
    "\n",
    "# df = read_table(\"day_1_input.txt\")\n",
    "\n",
    "df = DataFrame(\n",
    "    data = [\n",
    "        \"two1nine\",\n",
    "        \"eightwothree\",\n",
    "        \"abcone2threexyz\",\n",
    "        \"xtwone3four\",\n",
    "        \"4nineeightseven2\",\n",
    "        \"zoneight234\",\n",
    "        \"7pqrstsixteen\",\n",
    "    ],\n",
    "    columns=[\"entries\"]\n",
    ")\n",
    "\n",
    "number_mapping = {\n",
    "    \"one\": \"1\",\n",
    "    \"two\": \"2\",\n",
    "    \"three\": \"3\",\n",
    "    \"four\": \"4\",\n",
    "    \"five\": \"5\",\n",
    "    \"six\": \"6\",\n",
    "    \"seven\": \"7\",\n",
    "    \"eight\": \"8\",\n",
    "    \"nine\": \"9\",\n",
    "}\n",
    "solution = 0\n",
    "for _, row in df.iterrows():\n",
    "    orig_dat = row.entries\n",
    "    dat = row.entries\n",
    "    \n",
    "    lowest_val = None\n",
    "    sub_key = None\n",
    "    highest_val = None\n",
    "    reverse_sub_key = None\n",
    "    for key in number_mapping.keys():\n",
    "        if key in dat:\n",
    "            for match in finditer(key, dat):\n",
    "                start_val = match.start()\n",
    "                if lowest_val:\n",
    "                    if start_val < lowest_val:\n",
    "                        sub_key = key\n",
    "                        lowest_val = start_val\n",
    "                if highest_val:\n",
    "                    if start_val > highest_val:\n",
    "                        reverse_sub_key = key\n",
    "                        highest_val = start_val\n",
    "                sub_key = key\n",
    "                highest_sub_key = key\n",
    "                lowest_val = start_val\n",
    "                highest_val = start_val\n",
    "                \n",
    "    dat = sub(sub_key, number_mapping.get(sub_key), dat)\n",
    "    if highest_val:\n",
    "        dat = sub(highest_sub_key, number_mapping.get(highest_sub_key), dat)\n",
    "    \n",
    "    vals = findall(r'\\d+', dat)\n",
    "\n",
    "    if isinstance(vals, list):\n",
    "        num_1 = int(vals[0][0])\n",
    "        num_2 = int(vals[-1][-1])\n",
    "\n",
    "    if int(num_1) > 9:\n",
    "        first_val_to_add = int(str(num_1)[0])\n",
    "    \n",
    "    if int(num_2) > 9:\n",
    "        second_val_to_add = int(str(num_2[-1]))\n",
    "    \n",
    "    print(orig_dat, dat, vals, num_1, num_2)\n",
    "    solution += int(str(num_1) + str(num_2))\n",
    "\n",
    "solution"
   ]
  },
  {
   "cell_type": "code",
   "execution_count": 20,
   "metadata": {},
   "outputs": [
    {
     "data": {
      "text/plain": [
       "['__class__',\n",
       " '__class_getitem__',\n",
       " '__copy__',\n",
       " '__deepcopy__',\n",
       " '__delattr__',\n",
       " '__dir__',\n",
       " '__doc__',\n",
       " '__eq__',\n",
       " '__format__',\n",
       " '__ge__',\n",
       " '__getattribute__',\n",
       " '__getitem__',\n",
       " '__gt__',\n",
       " '__hash__',\n",
       " '__init__',\n",
       " '__init_subclass__',\n",
       " '__le__',\n",
       " '__lt__',\n",
       " '__ne__',\n",
       " '__new__',\n",
       " '__reduce__',\n",
       " '__reduce_ex__',\n",
       " '__repr__',\n",
       " '__setattr__',\n",
       " '__sizeof__',\n",
       " '__str__',\n",
       " '__subclasshook__',\n",
       " 'end',\n",
       " 'endpos',\n",
       " 'expand',\n",
       " 'group',\n",
       " 'groupdict',\n",
       " 'groups',\n",
       " 'lastgroup',\n",
       " 'lastindex',\n",
       " 'pos',\n",
       " 're',\n",
       " 'regs',\n",
       " 'span',\n",
       " 'start',\n",
       " 'string']"
      ]
     },
     "execution_count": 20,
     "metadata": {},
     "output_type": "execute_result"
    }
   ],
   "source": [
    "dir(match)"
   ]
  },
  {
   "cell_type": "code",
   "execution_count": 27,
   "metadata": {},
   "outputs": [
    {
     "data": {
      "text/plain": [
       "0"
      ]
     },
     "execution_count": 27,
     "metadata": {},
     "output_type": "execute_result"
    }
   ],
   "source": [
    "match.pos"
   ]
  },
  {
   "cell_type": "code",
   "execution_count": null,
   "metadata": {},
   "outputs": [],
   "source": [
    "# 54393 too low\n",
    "29, 83, 13, 24, 42, 14, 76"
   ]
  },
  {
   "cell_type": "code",
   "execution_count": 32,
   "metadata": {},
   "outputs": [
    {
     "name": "stdout",
     "output_type": "stream",
     "text": [
      "4\n",
      "7\n",
      "0\n"
     ]
    },
    {
     "ename": "IndexError",
     "evalue": "no such group",
     "output_type": "error",
     "traceback": [
      "\u001b[0;31m---------------------------------------------------------------------------\u001b[0m",
      "\u001b[0;31mIndexError\u001b[0m                                Traceback (most recent call last)",
      "\u001b[1;32m/Users/waco/firsthand-dbt/airflow/dags/avent.ipynb Cell 6\u001b[0m line \u001b[0;36m1\n\u001b[1;32m      <a href='vscode-notebook-cell:/Users/waco/firsthand-dbt/airflow/dags/avent.ipynb#W3sZmlsZQ%3D%3D?line=6'>7</a>\u001b[0m         \u001b[39mfor\u001b[39;00m match \u001b[39min\u001b[39;00m finditer(key, string):\n\u001b[1;32m      <a href='vscode-notebook-cell:/Users/waco/firsthand-dbt/airflow/dags/avent.ipynb#W3sZmlsZQ%3D%3D?line=7'>8</a>\u001b[0m             \u001b[39mprint\u001b[39m(match\u001b[39m.\u001b[39mstart())\n\u001b[0;32m---> <a href='vscode-notebook-cell:/Users/waco/firsthand-dbt/airflow/dags/avent.ipynb#W3sZmlsZQ%3D%3D?line=9'>10</a>\u001b[0m \u001b[39mmatch\u001b[39;49;00m\u001b[39m.\u001b[39;49mgroup(\u001b[39m4\u001b[39;49m)\n",
      "\u001b[0;31mIndexError\u001b[0m: no such group"
     ]
    }
   ],
   "source": [
    "from re import finditer\n",
    "\n",
    "string = \"eightwothree\"\n",
    "\n",
    "for key in number_mapping.keys():\n",
    "    if key in string:\n",
    "        for match in finditer(key, string):\n",
    "            print(match.start())\n",
    "\n",
    "match.group(4)"
   ]
  }
 ],
 "metadata": {
  "kernelspec": {
   "display_name": "venv",
   "language": "python",
   "name": "python3"
  },
  "language_info": {
   "codemirror_mode": {
    "name": "ipython",
    "version": 3
   },
   "file_extension": ".py",
   "mimetype": "text/x-python",
   "name": "python",
   "nbconvert_exporter": "python",
   "pygments_lexer": "ipython3",
   "version": "3.9.6"
  }
 },
 "nbformat": 4,
 "nbformat_minor": 2
}
