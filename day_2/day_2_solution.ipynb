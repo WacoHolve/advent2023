{
 "cells": [
  {
   "cell_type": "code",
   "execution_count": 83,
   "metadata": {},
   "outputs": [
    {
     "data": {
      "text/plain": [
       "'Index Sum: 2169, Power Sum: 60948'"
      ]
     },
     "execution_count": 83,
     "metadata": {},
     "output_type": "execute_result"
    }
   ],
   "source": [
    "from pandas import read_table, DataFrame\n",
    "from numpy import prod\n",
    "from re import findall\n",
    "\n",
    "def _is_valid_game(game: str, return_game_index: bool = True) -> int:\n",
    "    game_data = game.split(\": \")\n",
    "    game_index = int(findall(r'\\d+', game_data[0])[0])\n",
    "\n",
    "    valid = True\n",
    "    games = game_data[-1].split(\"; \")\n",
    "    power_dict = {\n",
    "        \"red_max\": 0,\n",
    "        \"blue_max\": 0,\n",
    "        \"green_max\": 0,\n",
    "    }\n",
    "    for sim in games:\n",
    "        cubes = sim.split(\" ,\")\n",
    "        for cube in cubes[0].split(\", \"):\n",
    "            number, color = cube.split(\" \")\n",
    "            lookup_number = rule_dict.get(color)\n",
    "\n",
    "            if int(number) > lookup_number:\n",
    "                valid = False\n",
    "            \n",
    "            max_check = power_dict.get(f\"{color}_max\")\n",
    "            if int(number) > max_check:\n",
    "                power_dict[f\"{color}_max\"] = int(number)\n",
    "\n",
    "    if return_game_index:\n",
    "        if valid: \n",
    "            return game_index\n",
    "        return 0\n",
    "    \n",
    "    return prod(list(power_dict.values()))\n",
    "\n",
    "df = read_table('day_2_input.txt')\n",
    "\n",
    "rule_dict = {\n",
    "    \"red\": 12,\n",
    "    \"green\": 13,\n",
    "    \"blue\": 14,\n",
    "}\n",
    "\n",
    "index_sum = sum(df.entries.apply(_is_valid_game))\n",
    "power_sum = sum(df.entries.apply(_is_valid_game, args=(False, )))\n",
    "\n",
    "f\"Index Sum: {index_sum}, Power Sum: {power_sum}\""
   ]
  }
 ],
 "metadata": {
  "kernelspec": {
   "display_name": "venv",
   "language": "python",
   "name": "python3"
  },
  "language_info": {
   "codemirror_mode": {
    "name": "ipython",
    "version": 3
   },
   "file_extension": ".py",
   "mimetype": "text/x-python",
   "name": "python",
   "nbconvert_exporter": "python",
   "pygments_lexer": "ipython3",
   "version": "3.9.6"
  }
 },
 "nbformat": 4,
 "nbformat_minor": 2
}
