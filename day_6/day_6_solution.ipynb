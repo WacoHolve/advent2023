{
 "cells": [
  {
   "cell_type": "code",
   "execution_count": 1,
   "metadata": {},
   "outputs": [],
   "source": [
    "from pandas import read_table\n",
    "from re import findall\n",
    "\n",
    "df = read_table(\"day_6_input.txt\")\n",
    "\n",
    "times = findall(r'\\d+', df.iloc[0, 0])\n",
    "distances = findall(r'\\d+', df.iloc[1, 0])"
   ]
  },
  {
   "cell_type": "code",
   "execution_count": 2,
   "metadata": {},
   "outputs": [
    {
     "data": {
      "text/plain": [
       "1159152"
      ]
     },
     "execution_count": 2,
     "metadata": {},
     "output_type": "execute_result"
    }
   ],
   "source": [
    "# set to 1 so it doesn't default to 0\n",
    "valid_hold_amount_solution = 1\n",
    "for i in range(len(times)):\n",
    "    valid_hold_amounts = 0\n",
    "    time = int(times[i])\n",
    "    distance = int(distances[i])\n",
    "\n",
    "    msps = 0\n",
    "    while time > 0:\n",
    "        if time * msps > distance:\n",
    "            valid_hold_amounts += 1\n",
    "        msps += 1\n",
    "        time -= 1\n",
    "    valid_hold_amount_solution *= valid_hold_amounts\n",
    "valid_hold_amount_solution"
   ]
  },
  {
   "cell_type": "code",
   "execution_count": 4,
   "metadata": {},
   "outputs": [
    {
     "data": {
      "text/plain": [
       "41513103"
      ]
     },
     "execution_count": 4,
     "metadata": {},
     "output_type": "execute_result"
    }
   ],
   "source": [
    "# set to 1 so it doesn't default to 0\n",
    "valid_hold_amounts = 0\n",
    "combined_time = int(''.join(times))\n",
    "combined_distance = int(''.join(distances))\n",
    "\n",
    "# set to 1 so it doesn't default to 0\n",
    "valid_hold_amount_solution = 1\n",
    "valid_hold_amounts = 0\n",
    "time = int(combined_time)\n",
    "distance = int(combined_distance)\n",
    "\n",
    "msps = 0\n",
    "while time > 0:\n",
    "    if time * msps > distance:\n",
    "        valid_hold_amounts += 1\n",
    "    msps += 1\n",
    "    time -= 1\n",
    "\n",
    "valid_hold_amounts"
   ]
  }
 ],
 "metadata": {
  "kernelspec": {
   "display_name": "venv",
   "language": "python",
   "name": "python3"
  },
  "language_info": {
   "codemirror_mode": {
    "name": "ipython",
    "version": 3
   },
   "file_extension": ".py",
   "mimetype": "text/x-python",
   "name": "python",
   "nbconvert_exporter": "python",
   "pygments_lexer": "ipython3",
   "version": "3.9.6"
  }
 },
 "nbformat": 4,
 "nbformat_minor": 2
}
