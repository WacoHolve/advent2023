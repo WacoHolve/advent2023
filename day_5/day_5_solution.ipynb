{
 "cells": [
  {
   "cell_type": "code",
   "execution_count": 1,
   "metadata": {},
   "outputs": [],
   "source": [
    "from pandas import read_table, DataFrame\n",
    "\n",
    "# generate lookup value\n",
    "def generate_lookup_value(df: DataFrame, check_val: int):\n",
    "    for row in df.iloc[:, 0]:\n",
    "        destination, source, increment = row.split(\" \")\n",
    "        destination = int(destination)\n",
    "        source = int(source)\n",
    "        increment = int(increment)\n",
    "        \n",
    "        if source <= check_val <= source + increment:\n",
    "            delta = check_val - source\n",
    "            return destination + delta\n",
    "\n",
    "    return check_val\n",
    "\n",
    "append_val = \"\"\n",
    "seeds = read_table(f\"seeds{append_val}.txt\")\n",
    "seed_to_soil = read_table(f\"seed_to_soil{append_val}.txt\")\n",
    "soil_to_fertilizer = read_table(f\"soil_to_fertilizer{append_val}.txt\")\n",
    "fertilizer_to_water = read_table(f\"fertilizer_to_water{append_val}.txt\")\n",
    "water_to_light = read_table(f\"water_to_light{append_val}.txt\")\n",
    "light_to_temperature = read_table(f\"light_to_temperature{append_val}.txt\")\n",
    "temperature_to_humidity = read_table(f\"temperature_to_humidity{append_val}.txt\")\n",
    "humidity_to_location = read_table(f\"humidity_to_location{append_val}.txt\")"
   ]
  },
  {
   "cell_type": "code",
   "execution_count": 2,
   "metadata": {},
   "outputs": [
    {
     "data": {
      "text/plain": [
       "662197086"
      ]
     },
     "execution_count": 2,
     "metadata": {},
     "output_type": "execute_result"
    }
   ],
   "source": [
    "min_location = None\n",
    "seed_list = seeds.seeds[0].split(\" \")\n",
    "for source_val in seed_list:\n",
    "    source_val = int(source_val)\n",
    "    seed_to_soil_lookup = generate_lookup_value(df=seed_to_soil, check_val=source_val)\n",
    "    soil_to_fertilizer_lookup = generate_lookup_value(df=soil_to_fertilizer, check_val=seed_to_soil_lookup)\n",
    "    fertilizer_to_water_lookup = generate_lookup_value(df=fertilizer_to_water, check_val=soil_to_fertilizer_lookup)\n",
    "    water_to_light_lookup = generate_lookup_value(df=water_to_light, check_val=fertilizer_to_water_lookup)\n",
    "    light_to_temperature_lookup = generate_lookup_value(df=light_to_temperature, check_val=water_to_light_lookup)\n",
    "    temperature_to_humidity_lookup = generate_lookup_value(df=temperature_to_humidity, check_val=light_to_temperature_lookup)\n",
    "    humidity_to_location_lookup = generate_lookup_value(df=humidity_to_location, check_val=temperature_to_humidity_lookup)\n",
    "\n",
    "    if not min_location:\n",
    "        min_location = humidity_to_location_lookup\n",
    "    \n",
    "    if humidity_to_location_lookup < min_location:\n",
    "        min_location = humidity_to_location_lookup\n",
    "min_location"
   ]
  }
 ],
 "metadata": {
  "kernelspec": {
   "display_name": "venv",
   "language": "python",
   "name": "python3"
  },
  "language_info": {
   "codemirror_mode": {
    "name": "ipython",
    "version": 3
   },
   "file_extension": ".py",
   "mimetype": "text/x-python",
   "name": "python",
   "nbconvert_exporter": "python",
   "pygments_lexer": "ipython3",
   "version": "3.9.6"
  }
 },
 "nbformat": 4,
 "nbformat_minor": 2
}
