{
 "cells": [
  {
   "cell_type": "code",
   "execution_count": 1,
   "metadata": {},
   "outputs": [
    {
     "data": {
      "text/plain": [
       "'Part 1: 25004, Part 2: 14427616'"
      ]
     },
     "execution_count": 1,
     "metadata": {},
     "output_type": "execute_result"
    }
   ],
   "source": [
    "from pandas import read_table, Series\n",
    "from re import findall\n",
    "\n",
    "def _calculate_scratchcard_score(\n",
    "        entries: Series, scratchcard_winning_dict: dict\n",
    "    ) -> int:\n",
    "    card_num, game = entries.split(\": \")\n",
    "    numbers, winning_numbers = game.split(\" | \")\n",
    "    numbers_list = numbers.split(\" \")\n",
    "    winning_numbers_list = winning_numbers.split(\" \")\n",
    "    card_num = int(findall(r'\\d+', card_num)[0])\n",
    "\n",
    "    number_matches = 0\n",
    "    number_matches = len([x for x in numbers_list if x in winning_numbers_list and x != \"\"])\n",
    "    scratchcard_winning_dict[card_num] = number_matches\n",
    "\n",
    "    n = 0\n",
    "    if number_matches > 0:\n",
    "        n = 1\n",
    "        for _ in range(1, number_matches):\n",
    "            n *= 2\n",
    "    \n",
    "    return n\n",
    "\n",
    "df = read_table(\"day_4_input.txt\")\n",
    "scratchcard_winning_dict = {}\n",
    "part_1 = sum(df.entries.apply(_calculate_scratchcard_score, args=(scratchcard_winning_dict, )))\n",
    "\n",
    "scratchcard_iteration_dict = scratchcard_winning_dict.copy()\n",
    "solution = 0\n",
    "for game_id, winners in scratchcard_winning_dict.items():\n",
    "    dupes = scratchcard_iteration_dict.get(game_id) - winners\n",
    "    solution += dupes + 1\n",
    "    for i in range(1, winners + 1):\n",
    "        scratchcard_iteration_dict[game_id + i] += 1 + dupes\n",
    "\n",
    "\n",
    "part_2 = solution\n",
    "\n",
    "f\"Part 1: {part_1}, Part 2: {solution}\""
   ]
  }
 ],
 "metadata": {
  "kernelspec": {
   "display_name": "venv",
   "language": "python",
   "name": "python3"
  },
  "language_info": {
   "codemirror_mode": {
    "name": "ipython",
    "version": 3
   },
   "file_extension": ".py",
   "mimetype": "text/x-python",
   "name": "python",
   "nbconvert_exporter": "python",
   "pygments_lexer": "ipython3",
   "version": "3.9.6"
  }
 },
 "nbformat": 4,
 "nbformat_minor": 2
}
